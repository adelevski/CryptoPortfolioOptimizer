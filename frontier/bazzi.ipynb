{
 "cells": [
  {
   "cell_type": "code",
   "execution_count": 1,
   "metadata": {},
   "outputs": [
    {
     "ename": "ModuleNotFoundError",
     "evalue": "No module named 'tracker'",
     "output_type": "error",
     "traceback": [
      "\u001b[1;31m---------------------------------------------------------------------------\u001b[0m",
      "\u001b[1;31mModuleNotFoundError\u001b[0m                       Traceback (most recent call last)",
      "\u001b[1;32m~\\AppData\\Local\\Temp/ipykernel_4832/3960600103.py\u001b[0m in \u001b[0;36m<module>\u001b[1;34m\u001b[0m\n\u001b[0;32m      5\u001b[0m \u001b[1;32mimport\u001b[0m \u001b[0mscipy\u001b[0m\u001b[1;33m.\u001b[0m\u001b[0moptimize\u001b[0m \u001b[1;32mas\u001b[0m \u001b[0msc\u001b[0m\u001b[1;33m\u001b[0m\u001b[1;33m\u001b[0m\u001b[0m\n\u001b[0;32m      6\u001b[0m \u001b[1;33m\u001b[0m\u001b[0m\n\u001b[1;32m----> 7\u001b[1;33m \u001b[1;32mfrom\u001b[0m \u001b[0mtracker\u001b[0m\u001b[1;33m.\u001b[0m\u001b[0mmain\u001b[0m \u001b[1;32mimport\u001b[0m \u001b[0mget_portfolio\u001b[0m\u001b[1;33m\u001b[0m\u001b[1;33m\u001b[0m\u001b[0m\n\u001b[0m",
      "\u001b[1;31mModuleNotFoundError\u001b[0m: No module named 'tracker'"
     ]
    }
   ],
   "source": [
    "import numpy as np\n",
    "import pandas as pd\n",
    "import datetime as dt\n",
    "import yfinance as yf\n",
    "import scipy.optimize as sc\n",
    "\n",
    "from tracker.main import get_portfolio"
   ]
  },
  {
   "cell_type": "code",
   "execution_count": null,
   "metadata": {},
   "outputs": [],
   "source": [
    "RFR = 0.00"
   ]
  },
  {
   "cell_type": "code",
   "execution_count": null,
   "metadata": {},
   "outputs": [],
   "source": [
    "def get_data(coins, start, end):\n",
    "    coin_data = yf.download(coins, start=start, end=end)\n",
    "    coin_data = coin_data['Close']\n",
    "    returns = coin_data.pct_change()\n",
    "    mean_returns = returns.mean()\n",
    "    cov_matrix = returns.cov()\n",
    "    return mean_returns, cov_matrix\n",
    "\n",
    "def port_performance(weights, mean_returns, cov_matrix):\n",
    "    expected_returns = np.sum(mean_returns * weights) * 365\n",
    "    expected_volatility = np.sqrt(np.dot(weights.T, np.dot(cov_matrix, weights))) * np.sqrt(365)\n",
    "    return expected_returns, expected_volatility\n",
    "\n",
    "def negative_sharpe(weights, mean_returns, cov_matrix, rfr=RFR):\n",
    "    expected_returns, expected_volatility = port_performance(weights, mean_returns, cov_matrix)\n",
    "    sharpe_ratio = (expected_returns - rfr) / expected_volatility\n",
    "    neg_sharpe = -1 * sharpe_ratio\n",
    "    return neg_sharpe\n",
    "\n",
    "def maximize_sharpe(mean_returns, cov_matrix, bound=(0,1)):\n",
    "    num_coins = len(mean_returns)\n",
    "    initial_weights = num_coins * [1.0 / num_coins]\n",
    "    arguments = (mean_returns, cov_matrix)\n",
    "    bounds = tuple(bound for coin in range(num_coins))\n",
    "    constraints = ({\"type\": \"eq\", \"fun\": lambda weights: np.sum(weights) - 1})\n",
    "    result = sc.minimize(negative_sharpe, initial_weights, method='SLSQP', args=arguments, bounds=bounds, constraints=constraints)\n",
    "    return result"
   ]
  },
  {
   "cell_type": "code",
   "execution_count": null,
   "metadata": {},
   "outputs": [],
   "source": []
  },
  {
   "cell_type": "code",
   "execution_count": null,
   "metadata": {},
   "outputs": [],
   "source": [
    "coins = []\n",
    "\n",
    "for i in range(len(coins)):\n",
    "    coins[i] = coins[i] + '-USD'"
   ]
  },
  {
   "cell_type": "code",
   "execution_count": null,
   "metadata": {},
   "outputs": [],
   "source": [
    "\n",
    "\n",
    "end_date = dt.datetime(2021, 1, 23)\n",
    "start_date = dt.datetime(2021, 1, 1)\n",
    "\n",
    "# end_date = dt.datetime.now()\n",
    "# start_date = end_date - dt.timedelta(days=365*3)\n",
    "\n",
    "mean_returns, cov_matrix = get_data(coins, start_date, end_date)"
   ]
  },
  {
   "cell_type": "code",
   "execution_count": null,
   "metadata": {},
   "outputs": [],
   "source": [
    "result = maximize_sharpe(mean_returns, cov_matrix)\n",
    "print(result)\n",
    "vector = result['x']\n",
    "optimal_weights = [{ticker:round(x, 3)} for ticker,x in zip(tickers,vector)] \n",
    "print(optimal_weights)"
   ]
  },
  {
   "cell_type": "code",
   "execution_count": null,
   "metadata": {},
   "outputs": [],
   "source": [
    "# x: array([0.35360146, 0.34451539, 0.23856027, 0.06332288])\n",
    "# [{'CEVA': 0.354}, {'GOOGL': 0.345}, {'TSLA': 0.239}, {'ZOM': 0.063}]"
   ]
  }
 ],
 "metadata": {
  "interpreter": {
   "hash": "995ada8122a876e676476c9d2cec462e6e04f5e0ed64f21d7564d9a3eca61d0d"
  },
  "kernelspec": {
   "display_name": "Python 3.8.7 64-bit ('venv': venv)",
   "name": "python3"
  },
  "language_info": {
   "codemirror_mode": {
    "name": "ipython",
    "version": 3
   },
   "file_extension": ".py",
   "mimetype": "text/x-python",
   "name": "python",
   "nbconvert_exporter": "python",
   "pygments_lexer": "ipython3",
   "version": "3.8.7"
  },
  "orig_nbformat": 4
 },
 "nbformat": 4,
 "nbformat_minor": 2
}
